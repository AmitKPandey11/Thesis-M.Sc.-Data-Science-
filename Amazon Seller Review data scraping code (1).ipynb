{
 "cells": [
  {
   "cell_type": "markdown",
   "metadata": {},
   "source": [
    "# Points to be noted & way to use"
   ]
  },
  {
   "cell_type": "markdown",
   "metadata": {},
   "source": [
    "1. Install below imported libraries first.\n",
    "2. Put all the seller urls in URL list in inverted commas seprated by comma.\n",
    "3. Change chromedriver path according to your PC\n",
    "4. For 10 second timer it will take 1.5 hours to scrape 50 seller urls and for each seller it will go to 11 pages. So, firstly    check that there must be 51 reviews atleast otherwise code will stop in between.\n",
    "5. Export file in CSV or Excel\n",
    "6. Remove those reviews in excel which are having ratings 0 out of 5 as there are garbabge and extra value in HTML code.\n",
    "7. After that use Trim(Clean()) function in excel to clean all the cells.\n",
    "8. Now find null and replace with blank in review column.\n",
    "9. That's it. Now you are done."
   ]
  },
  {
   "cell_type": "markdown",
   "metadata": {},
   "source": [
    "# Importing Libraries"
   ]
  },
  {
   "cell_type": "code",
   "execution_count": 20,
   "metadata": {},
   "outputs": [
    {
     "data": {
      "application/vnd.jupyter.widget-view+json": {
       "model_id": "e8b320a700414da291bf507a5ea6dd2a",
       "version_major": 2,
       "version_minor": 0
      },
      "text/plain": [
       "HBox(children=(IntProgress(value=1, bar_style='info', max=1), HTML(value='')))"
      ]
     },
     "metadata": {},
     "output_type": "display_data"
    },
    {
     "name": "stdout",
     "output_type": "stream",
     "text": [
      "\n"
     ]
    }
   ],
   "source": [
    "import time\n",
    "import pandas as pd\n",
    "from math import ceil\n",
    "from bs4 import BeautifulSoup\n",
    "from selenium import webdriver\n",
    "options = webdriver.ChromeOptions()\n",
    "options.add_argument(\"--incognito\")\n",
    "\n",
    "from tqdm import tqdm_notebook as tqdm\n",
    "tqdm().pandas()"
   ]
  },
  {
   "cell_type": "markdown",
   "metadata": {},
   "source": [
    "# Main Code"
   ]
  },
  {
   "cell_type": "code",
   "execution_count": 64,
   "metadata": {},
   "outputs": [
    {
     "data": {
      "application/vnd.jupyter.widget-view+json": {
       "model_id": "4cd8f0f705d54029a23564cfb7d79068",
       "version_major": 2,
       "version_minor": 0
      },
      "text/plain": [
       "HBox(children=(IntProgress(value=0, max=17), HTML(value='')))"
      ]
     },
     "metadata": {},
     "output_type": "display_data"
    },
    {
     "name": "stdout",
     "output_type": "stream",
     "text": [
      "\n"
     ]
    }
   ],
   "source": [
    "ratings=[]                                                                  #ratings will be stored here\n",
    "review=[]                                                                   #reviews will be stored here\n",
    "seller=[]                                                                   #Seller url that you will enter will be stored here.\n",
    "date = []\n",
    "\n",
    "def render():                                                               #This function will get the HTMl of desire page \n",
    "    content = driver.page_source \n",
    "    soup = BeautifulSoup(content)\n",
    "\n",
    "def rating_and_review():                                                    #This function will extract ratings & reviews\n",
    "    main = soup.findAll('tr', class_ = 'feedback-row')\n",
    "    for i in main:\n",
    "        ratings.append(i.find('span', class_ = 'a-icon-alt').text)\n",
    "        review.append(i.find('span', class_=\"a-text-quote\").text)\n",
    "        date.append(i.find('span', class_ = 'a-size-base a-color-secondary feedback-rater').text.strip().split(' on ')[-1])\n",
    "        seller.append(url)\n",
    "\n",
    "def next_page():                                                            #This function will go to next page\n",
    "    element = driver.find_element_by_xpath('//*[@id=\"feedback-next-link\"]')\n",
    "    element.click()\n",
    "    \n",
    "# Enter all the seller urls here in inverted commas seprated by comma.\n",
    "urls=pd.read_excel(r'D:\\NLP\\Book1.xlsx')\n",
    "\n",
    "#Change driver path according to your PC\n",
    "with tqdm(total=len(urls.iloc[:,0])) as pbar:\n",
    "    with webdriver.Chrome(executable_path=r'D:\\NLP\\chromedriver.exe',options=options) as driver:\n",
    "        for url in urls.iloc[:,0]:\n",
    "            driver.get(url)\n",
    "            content = driver.page_source \n",
    "            soup = BeautifulSoup(content)\n",
    "            count = int(soup.findAll('td', class_ = 'a-text-right')[-3].text)\n",
    "            pages = int(ceil((count+50)/5))\n",
    "            rating_and_review()\n",
    "            for i in range(pages-1):           #Will go to 11 pages so firstly check that there must be atleast 51 reviews for each seller\n",
    "                next_page()\n",
    "                time.sleep(5)                                                 #Increase time if your net is slow\n",
    "                content = driver.page_source \n",
    "                soup = BeautifulSoup(content)\n",
    "                rating_and_review()\n",
    "                \n",
    "        for x in urls.iloc[:,0]:\n",
    "            pbar.update(1)   "
   ]
  },
  {
   "cell_type": "code",
   "execution_count": 63,
   "metadata": {},
   "outputs": [
    {
     "data": {
      "text/plain": [
       "'https://www.amazon.in/sp?seller=A3562S4XA3U86R'"
      ]
     },
     "execution_count": 63,
     "metadata": {},
     "output_type": "execute_result"
    }
   ],
   "source": [
    "url"
   ]
  },
  {
   "cell_type": "code",
   "execution_count": 7,
   "metadata": {},
   "outputs": [
    {
     "name": "stdout",
     "output_type": "stream",
     "text": [
      "https://www.amazon.in/sp?seller=AX6909EQRKV3V\n",
      "https://www.amazon.in/sp?seller=A2OZE8PDBNGP9\n",
      "https://www.amazon.in/sp?seller=A2CCBHH94JH0I3\n",
      "https://www.amazon.in/sp?seller=A198YPL9HMZFEQ\n",
      "https://www.amazon.in/sp?seller=A2RGX3NBPKZ0Q6\n",
      "https://www.amazon.in/sp?seller=A2URH5PT7VH47B\n",
      "https://www.amazon.in/sp?seller=AVND704DYR11L\n",
      "https://www.amazon.in/sp?seller=AVND704DYR11L\n",
      "https://www.amazon.in/sp?seller=A2Q62FPIIHZHEH\n",
      "https://www.amazon.in/sp?seller=A37X82NHQG2SCQ\n",
      "https://www.amazon.in/sp?seller=A10APZ7CPHNZCM\n",
      "https://www.amazon.in/sp?seller=A18QW0ILDGOFW0\n",
      "https://www.amazon.in/sp?seller=A2L9EKCABNVVL5\n",
      "https://www.amazon.in/sp?seller=A3LZFDR8BWYGCA\n",
      "https://www.amazon.in/sp?seller=A2O5GK26TRWETU\n",
      "https://www.amazon.in/sp?seller=A8VZ71SG51Y5S\n",
      "https://www.amazon.in/sp?seller=A463GA266Z5XG\n",
      "https://www.amazon.in/sp?seller=A2JN14DZSIL3UT\n",
      "https://www.amazon.in/sp?seller=A1F157EFH46MZ3\n",
      "https://www.amazon.in/sp?seller=A285YF6B9RULZC\n",
      "https://www.amazon.in/sp?seller=A2PXYL3NJADHJV\n",
      "https://www.amazon.in/sp?seller=A1NJ1N74R1YB23\n",
      "https://www.amazon.in/sp?seller=A3RNDHBOZTMKZQ\n",
      "https://www.amazon.in/sp?seller=A3BJI3TNBFIJOP\n",
      "https://www.amazon.in/sp?seller=A243IDJ8NVNULR\n",
      "https://www.amazon.in/sp?seller=A61C6NUFGVGS7\n",
      "https://www.amazon.in/sp?seller=A3MNKRF4JZ7NBF\n",
      "https://www.amazon.in/sp?seller=A3EFESK3LQGMVY\n",
      "https://www.amazon.in/sp?seller=A2U9BFQLL94DDT\n",
      "https://www.amazon.in/sp?seller=A2FS4NK0NQR709\n",
      "https://www.amazon.in/sp?seller=A27LPMZIGZ21IK\n",
      "https://www.amazon.in/sp?seller=A3CJIYO6X9DIRJ\n",
      "https://www.amazon.in/sp?seller=A2OUBV7R8H91L0\n",
      "https://www.amazon.in/sp?seller=A34N6JGI0BMD4A\n",
      "https://www.amazon.in/sp?seller=AA0J98CVDRG52\n",
      "https://www.amazon.in/sp?seller=A1EHH54O3EPJ5B\n",
      "https://www.amazon.in/sp?seller=A2HZQ5CXS0RN6\n",
      "https://www.amazon.in/sp?seller=ARU24JXUG3S4L\n",
      "https://www.amazon.in/sp?seller=A2JT60VCHCUHGJ\n",
      "https://www.amazon.in/sp?seller=A1JV1LN0Y6K86J\n",
      "https://www.amazon.in/sp?seller=A1S46CEHK621UY\n",
      "https://www.amazon.in/sp?seller=A1DQUOQN16GBB5\n",
      "https://www.amazon.in/sp?seller=A2Z45YEI9TPDCD\n",
      "https://www.amazon.in/sp?seller=AU7M6CB1EVV53\n",
      "https://www.amazon.in/sp?seller=A1P11R3LHKYWM8\n",
      "https://www.amazon.in/sp?seller=A25WG3X1HNOD23\n",
      "https://www.amazon.in/sp?seller=A2RGX3NBPKZ0Q6\n",
      "https://www.amazon.in/sp?seller=A198YPL9HMZFEQ\n",
      "https://www.amazon.in/sp?seller=A2CCBHH94JH0I3\n",
      "https://www.amazon.in/sp?seller=AQKNOO8J9ENLT\n",
      "https://www.amazon.in/sp?seller=A257DDP48MR1S9\n"
     ]
    }
   ],
   "source": [
    "for url in urls.iloc[:,0]:\n",
    "    print(url)"
   ]
  },
  {
   "cell_type": "markdown",
   "metadata": {},
   "source": [
    "# Exporting Data"
   ]
  },
  {
   "cell_type": "code",
   "execution_count": 65,
   "metadata": {},
   "outputs": [
    {
     "data": {
      "text/html": [
       "<div>\n",
       "<style scoped>\n",
       "    .dataframe tbody tr th:only-of-type {\n",
       "        vertical-align: middle;\n",
       "    }\n",
       "\n",
       "    .dataframe tbody tr th {\n",
       "        vertical-align: top;\n",
       "    }\n",
       "\n",
       "    .dataframe thead th {\n",
       "        text-align: right;\n",
       "    }\n",
       "</style>\n",
       "<table border=\"1\" class=\"dataframe\">\n",
       "  <thead>\n",
       "    <tr style=\"text-align: right;\">\n",
       "      <th></th>\n",
       "      <th>Seller URL</th>\n",
       "      <th>Rating</th>\n",
       "      <th>Review</th>\n",
       "      <th>Date</th>\n",
       "    </tr>\n",
       "  </thead>\n",
       "  <tbody>\n",
       "    <tr>\n",
       "      <th>0</th>\n",
       "      <td>https://www.amazon.in/sp?seller=A2U5V1CXO0WIJ3</td>\n",
       "      <td>5 out of 5 stars</td>\n",
       "      <td>Lovely vinyl for my kitchen cupboards</td>\n",
       "      <td>21 June, 2020.</td>\n",
       "    </tr>\n",
       "    <tr>\n",
       "      <th>1</th>\n",
       "      <td>https://www.amazon.in/sp?seller=A2U5V1CXO0WIJ3</td>\n",
       "      <td>5 out of 5 stars</td>\n",
       "      <td>Good decent product</td>\n",
       "      <td>20 June, 2020.</td>\n",
       "    </tr>\n",
       "    <tr>\n",
       "      <th>2</th>\n",
       "      <td>https://www.amazon.in/sp?seller=A2U5V1CXO0WIJ3</td>\n",
       "      <td>5 out of 5 stars</td>\n",
       "      <td>shows as described in the picture.  I loved it...</td>\n",
       "      <td>19 June, 2020.</td>\n",
       "    </tr>\n",
       "    <tr>\n",
       "      <th>3</th>\n",
       "      <td>https://www.amazon.in/sp?seller=A2U5V1CXO0WIJ3</td>\n",
       "      <td>1 out of 5 stars</td>\n",
       "      <td>Had an awful experience twice with this seller.</td>\n",
       "      <td>19 June, 2020.</td>\n",
       "    </tr>\n",
       "    <tr>\n",
       "      <th>4</th>\n",
       "      <td>https://www.amazon.in/sp?seller=A2U5V1CXO0WIJ3</td>\n",
       "      <td>5 out of 5 stars</td>\n",
       "      <td>Great little gadget</td>\n",
       "      <td>18 June, 2020.</td>\n",
       "    </tr>\n",
       "  </tbody>\n",
       "</table>\n",
       "</div>"
      ],
      "text/plain": [
       "                                       Seller URL            Rating  \\\n",
       "0  https://www.amazon.in/sp?seller=A2U5V1CXO0WIJ3  5 out of 5 stars   \n",
       "1  https://www.amazon.in/sp?seller=A2U5V1CXO0WIJ3  5 out of 5 stars   \n",
       "2  https://www.amazon.in/sp?seller=A2U5V1CXO0WIJ3  5 out of 5 stars   \n",
       "3  https://www.amazon.in/sp?seller=A2U5V1CXO0WIJ3  1 out of 5 stars   \n",
       "4  https://www.amazon.in/sp?seller=A2U5V1CXO0WIJ3  5 out of 5 stars   \n",
       "\n",
       "                                              Review            Date  \n",
       "0              Lovely vinyl for my kitchen cupboards  21 June, 2020.  \n",
       "1                               Good decent product   20 June, 2020.  \n",
       "2  shows as described in the picture.  I loved it...  19 June, 2020.  \n",
       "3    Had an awful experience twice with this seller.  19 June, 2020.  \n",
       "4                                Great little gadget  18 June, 2020.  "
      ]
     },
     "execution_count": 65,
     "metadata": {},
     "output_type": "execute_result"
    }
   ],
   "source": [
    "data = pd.DataFrame({'Seller URL':seller, 'Rating':ratings, 'Review':review, 'Date': date})\n",
    "data.drop(data[data['Rating'] == '0 out of 5 stars'].index, inplace = True)\n",
    "#data.to_csv(r'Desktop\\scraped3_final.csv')                    #Get data in CSV (change path according to your PC)\n",
    "data.to_excel(r'C:\\Users\\Lenovo\\Desktop\\scraped5_final.xlsx')                 #Get data in excel (change path according to your PC)\n",
    "data.head()"
   ]
  },
  {
   "cell_type": "code",
   "execution_count": null,
   "metadata": {},
   "outputs": [],
   "source": []
  }
 ],
 "metadata": {
  "kernelspec": {
   "display_name": "Python 3",
   "language": "python",
   "name": "python3"
  },
  "language_info": {
   "codemirror_mode": {
    "name": "ipython",
    "version": 3
   },
   "file_extension": ".py",
   "mimetype": "text/x-python",
   "name": "python",
   "nbconvert_exporter": "python",
   "pygments_lexer": "ipython3",
   "version": "3.7.0"
  }
 },
 "nbformat": 4,
 "nbformat_minor": 2
}
