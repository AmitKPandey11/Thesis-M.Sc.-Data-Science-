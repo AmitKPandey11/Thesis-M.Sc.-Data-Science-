{
 "cells": [
  {
   "cell_type": "code",
   "execution_count": 1,
   "metadata": {},
   "outputs": [],
   "source": [
    "import numpy as np\n",
    "import pandas as pd\n",
    "import matplotlib.pyplot as plt\n",
    "import seaborn as sns\n",
    "import scipy.stats as stats\n",
    "from sklearn import preprocessing\n",
    " \n"
   ]
  },
  {
   "cell_type": "code",
   "execution_count": 2,
   "metadata": {},
   "outputs": [],
   "source": [
    "am=pd.read_excel(r\"C:\\Users\\Lenovo\\Desktop\\Final_Data.xlsx\")"
   ]
  },
  {
   "cell_type": "code",
   "execution_count": 3,
   "metadata": {},
   "outputs": [
    {
     "data": {
      "text/html": [
       "<div>\n",
       "<style scoped>\n",
       "    .dataframe tbody tr th:only-of-type {\n",
       "        vertical-align: middle;\n",
       "    }\n",
       "\n",
       "    .dataframe tbody tr th {\n",
       "        vertical-align: top;\n",
       "    }\n",
       "\n",
       "    .dataframe thead th {\n",
       "        text-align: right;\n",
       "    }\n",
       "</style>\n",
       "<table border=\"1\" class=\"dataframe\">\n",
       "  <thead>\n",
       "    <tr style=\"text-align: right;\">\n",
       "      <th></th>\n",
       "      <th>Twitter handler</th>\n",
       "      <th>Amazon seller name</th>\n",
       "      <th>Rating score</th>\n",
       "      <th>Nu of amazon review</th>\n",
       "      <th>Nu of tweet</th>\n",
       "      <th># Marketing</th>\n",
       "      <th># Conversation</th>\n",
       "      <th>AVG_tw_Polarity</th>\n",
       "    </tr>\n",
       "  </thead>\n",
       "  <tbody>\n",
       "    <tr>\n",
       "      <th>0</th>\n",
       "      <td>JaamsoRoyals_</td>\n",
       "      <td>JAAMSO ROYALS</td>\n",
       "      <td>85.140562</td>\n",
       "      <td>140</td>\n",
       "      <td>1</td>\n",
       "      <td>1</td>\n",
       "      <td>0</td>\n",
       "      <td>0.500000</td>\n",
       "    </tr>\n",
       "    <tr>\n",
       "      <th>1</th>\n",
       "      <td>exoticindiaart</td>\n",
       "      <td>Exotic India (322)</td>\n",
       "      <td>95.473251</td>\n",
       "      <td>110</td>\n",
       "      <td>5858</td>\n",
       "      <td>5802</td>\n",
       "      <td>56</td>\n",
       "      <td>0.168658</td>\n",
       "    </tr>\n",
       "    <tr>\n",
       "      <th>2</th>\n",
       "      <td>volga10000</td>\n",
       "      <td>VOLGA ENTERPRISES (181)</td>\n",
       "      <td>93.333333</td>\n",
       "      <td>56</td>\n",
       "      <td>2</td>\n",
       "      <td>2</td>\n",
       "      <td>0</td>\n",
       "      <td>0.000000</td>\n",
       "    </tr>\n",
       "    <tr>\n",
       "      <th>3</th>\n",
       "      <td>paperplane_shop</td>\n",
       "      <td>Paper Plane Design (241)</td>\n",
       "      <td>81.875000</td>\n",
       "      <td>240</td>\n",
       "      <td>1296</td>\n",
       "      <td>1044</td>\n",
       "      <td>252</td>\n",
       "      <td>0.263103</td>\n",
       "    </tr>\n",
       "    <tr>\n",
       "      <th>4</th>\n",
       "      <td>TheLightStudio</td>\n",
       "      <td>TheLightStudio</td>\n",
       "      <td>85.714286</td>\n",
       "      <td>50</td>\n",
       "      <td>9</td>\n",
       "      <td>9</td>\n",
       "      <td>0</td>\n",
       "      <td>0.056818</td>\n",
       "    </tr>\n",
       "  </tbody>\n",
       "</table>\n",
       "</div>"
      ],
      "text/plain": [
       "   Twitter handler        Amazon seller name  Rating score  \\\n",
       "0    JaamsoRoyals_            JAAMSO ROYALS      85.140562   \n",
       "1   exoticindiaart        Exotic India (322)     95.473251   \n",
       "2       volga10000   VOLGA ENTERPRISES (181)     93.333333   \n",
       "3  paperplane_shop  Paper Plane Design (241)     81.875000   \n",
       "4   TheLightStudio            TheLightStudio     85.714286   \n",
       "\n",
       "   Nu of amazon review  Nu of tweet  # Marketing  # Conversation  \\\n",
       "0                  140            1            1               0   \n",
       "1                  110         5858         5802              56   \n",
       "2                   56            2            2               0   \n",
       "3                  240         1296         1044             252   \n",
       "4                   50            9            9               0   \n",
       "\n",
       "   AVG_tw_Polarity  \n",
       "0         0.500000  \n",
       "1         0.168658  \n",
       "2         0.000000  \n",
       "3         0.263103  \n",
       "4         0.056818  "
      ]
     },
     "execution_count": 3,
     "metadata": {},
     "output_type": "execute_result"
    }
   ],
   "source": [
    "am.head()"
   ]
  },
  {
   "cell_type": "code",
   "execution_count": 37,
   "metadata": {},
   "outputs": [
    {
     "data": {
      "text/plain": [
       "0      15\n",
       "54      5\n",
       "2       4\n",
       "3       3\n",
       "1       3\n",
       "24      3\n",
       "15      2\n",
       "38      2\n",
       "56      2\n",
       "252     2\n",
       "429     1\n",
       "503     1\n",
       "53      1\n",
       "7       1\n",
       "8       1\n",
       "380     1\n",
       "12      1\n",
       "14      1\n",
       "81      1\n",
       "40      1\n",
       "402     1\n",
       "21      1\n",
       "27      1\n",
       "30      1\n",
       "99      1\n",
       "36      1\n",
       "246     1\n",
       "189     1\n",
       "Name: # Conversation, dtype: int64"
      ]
     },
     "execution_count": 37,
     "metadata": {},
     "output_type": "execute_result"
    }
   ],
   "source": [
    "am['# Conversation'].value_counts(ascending=False)"
   ]
  },
  {
   "cell_type": "code",
   "execution_count": 4,
   "metadata": {},
   "outputs": [],
   "source": [
    "from scipy.stats import ttest_1samp\n",
    "import numpy as np"
   ]
  },
  {
   "cell_type": "code",
   "execution_count": 5,
   "metadata": {},
   "outputs": [
    {
     "name": "stdout",
     "output_type": "stream",
     "text": [
      "86.26248893620482\n"
     ]
    }
   ],
   "source": [
    "rating_mean=am['Rating score'].mean()\n",
    "print(rating_mean)"
   ]
  },
  {
   "cell_type": "code",
   "execution_count": 25,
   "metadata": {},
   "outputs": [],
   "source": [
    "sample=am[am['# Conversation']>=10]"
   ]
  },
  {
   "cell_type": "code",
   "execution_count": 26,
   "metadata": {},
   "outputs": [
    {
     "name": "stdout",
     "output_type": "stream",
     "text": [
      "85.26880392960258\n"
     ]
    }
   ],
   "source": [
    "sample_mean=sample['Rating score'].mean()\n",
    "print(sample_mean)"
   ]
  },
  {
   "cell_type": "markdown",
   "metadata": {},
   "source": [
    "# One Sample t-test"
   ]
  },
  {
   "cell_type": "markdown",
   "metadata": {},
   "source": [
    "H_0= Mean of rating score of sellers where conversations tweets are less than 10 is equal to /n mean of rating score of all sellers with all tweets\n",
    "\n",
    "H_1=Mean of rating score of sellers where conversations tweets are less than 10 is  not equal to /n mean of rating score of all sellers with all tweets"
   ]
  },
  {
   "cell_type": "code",
   "execution_count": null,
   "metadata": {},
   "outputs": [],
   "source": []
  },
  {
   "cell_type": "code",
   "execution_count": 27,
   "metadata": {},
   "outputs": [
    {
     "name": "stdout",
     "output_type": "stream",
     "text": [
      "p_value 0.6953666533934537\n",
      "t_stat -0.39524797366895204\n"
     ]
    }
   ],
   "source": [
    "tstat,p_val=stats.ttest_1samp(a=sample['Rating score'] ,               # Sample data\n",
    "                 popmean= am['Rating score'].mean())  # Pop mean\n",
    "print(\"p_value\", p_val)\n",
    "print(\"t_stat\",tstat)"
   ]
  },
  {
   "cell_type": "code",
   "execution_count": 56,
   "metadata": {},
   "outputs": [
    {
     "name": "stdout",
     "output_type": "stream",
     "text": [
      "we are failed to reject null hypothesis as ,there is no impact on overallrating score due to engagement \n",
      " with customers on twitter\n"
     ]
    }
   ],
   "source": [
    "if p_val<0.05:\n",
    "    print('we are able  to reject null hypothesis as ,there is no impact on overall rating score due to engagement with \\n customers on twitter')\n",
    "else:\n",
    "    print(\"we are failed to reject null hypothesis as ,there is no impact on overallrating score due to engagement \\n with customers on twitter\")"
   ]
  },
  {
   "cell_type": "markdown",
   "metadata": {},
   "source": [
    "# Upper tail 1 sample t-test"
   ]
  },
  {
   "cell_type": "markdown",
   "metadata": {},
   "source": [
    "H_0= Mean of rating score of sellers where conversations tweets( are grater than 10) is less than or equal to /n mean of rating score of all sellers with all tweets\n",
    "\n",
    "H_1=Mean of rating score of sellers where conversations tweets (are greater than 10) is  greater than  /n mean of rating score of all sellers with all tweets"
   ]
  },
  {
   "cell_type": "code",
   "execution_count": 29,
   "metadata": {},
   "outputs": [
    {
     "name": "stdout",
     "output_type": "stream",
     "text": [
      "p_value 0.6953666533934537\n",
      "t_stat -0.39524797366895204\n"
     ]
    }
   ],
   "source": [
    "tstat,p_val=stats.ttest_1samp(a=sample['Rating score'] ,               # Sample data\n",
    "                 popmean= am['Rating score'].mean())  # Pop mean\n",
    "print(\"p_value\", p_val)\n",
    "print(\"t_stat\",tstat)"
   ]
  },
  {
   "cell_type": "code",
   "execution_count": 30,
   "metadata": {},
   "outputs": [],
   "source": [
    "Upper_tail_p_val=1-p_val/2"
   ]
  },
  {
   "cell_type": "code",
   "execution_count": 31,
   "metadata": {},
   "outputs": [
    {
     "name": "stdout",
     "output_type": "stream",
     "text": [
      "0.6523166733032731\n"
     ]
    }
   ],
   "source": [
    "print(Upper_tail_p_val)"
   ]
  },
  {
   "cell_type": "code",
   "execution_count": 55,
   "metadata": {},
   "outputs": [
    {
     "name": "stdout",
     "output_type": "stream",
     "text": [
      "we are fail to reject  H_0\n"
     ]
    }
   ],
   "source": [
    "if Upper_tail_p_val<0.05:\n",
    "    print(\"we are able to reject H_0\")\n",
    "else:\n",
    "    print(\"we are fail to reject  H_0\")"
   ]
  },
  {
   "cell_type": "code",
   "execution_count": 18,
   "metadata": {},
   "outputs": [
    {
     "data": {
      "text/plain": [
       "Twitter handler         object\n",
       "Amazon seller name      object\n",
       "Rating score           float64\n",
       "Nu of amazon review      int64\n",
       "Nu of tweet              int64\n",
       "# Marketing              int64\n",
       "# Conversation           int64\n",
       "AVG_tw_Polarity        float64\n",
       "dtype: object"
      ]
     },
     "execution_count": 18,
     "metadata": {},
     "output_type": "execute_result"
    }
   ],
   "source": [
    "am.dtypes"
   ]
  },
  {
   "cell_type": "code",
   "execution_count": 19,
   "metadata": {},
   "outputs": [
    {
     "data": {
      "text/plain": [
       "<matplotlib.axes._subplots.AxesSubplot at 0x5266c7b470>"
      ]
     },
     "execution_count": 19,
     "metadata": {},
     "output_type": "execute_result"
    },
    {
     "data": {
      "image/png": "[encoded data removed]",
      "text/plain": [
       "<Figure size 432x288 with 1 Axes>"
      ]
     },
     "metadata": {
      "needs_background": "light"
     },
     "output_type": "display_data"
    }
   ],
   "source": [
    "sns.regplot(am['Rating score'], am['AVG_tw_Polarity'],color='black')\n"
   ]
  },
  {
   "cell_type": "code",
   "execution_count": 20,
   "metadata": {},
   "outputs": [
    {
     "data": {
      "text/plain": [
       "<matplotlib.axes._subplots.AxesSubplot at 0x5266d4bd68>"
      ]
     },
     "execution_count": 20,
     "metadata": {},
     "output_type": "execute_result"
    },
    {
     "data": {
      "image/png": "[encoded data removed]",
      "text/plain": [
       "<Figure size 864x432 with 1 Axes>"
      ]
     },
     "metadata": {
      "needs_background": "light"
     },
     "output_type": "display_data"
    }
   ],
   "source": [
    "plt.figure(figsize = (12,6))\n",
    "sns.distplot(am['Rating score'],color = 'darkgreen')"
   ]
  },
  {
   "cell_type": "code",
   "execution_count": 25,
   "metadata": {},
   "outputs": [
    {
     "data": {
      "text/plain": [
       "<matplotlib.axes._subplots.AxesSubplot at 0xe1e5b99358>"
      ]
     },
     "execution_count": 25,
     "metadata": {},
     "output_type": "execute_result"
    },
    {
     "data": {
      "image/png": "[encoded data removed]",
      "text/plain": [
       "<Figure size 864x432 with 1 Axes>"
      ]
     },
     "metadata": {
      "needs_background": "light"
     },
     "output_type": "display_data"
    }
   ],
   "source": [
    "plt.figure(figsize = (12,6))\n",
    "sns.distplot(am['Polarity'],color = 'darkblue')"
   ]
  },
  {
   "cell_type": "code",
   "execution_count": 35,
   "metadata": {},
   "outputs": [],
   "source": [
    "sample_1=am['Rating score'].round()\n",
    "sample_2=am['# Conversation']"
   ]
  },
  {
   "cell_type": "markdown",
   "metadata": {},
   "source": [
    "stats.ttest_ind(a= am['Rating score'],\n",
    "                b= am['# Conversation'],\n",
    "                equal_var=False)  "
   ]
  },
  {
   "cell_type": "code",
   "execution_count": 41,
   "metadata": {},
   "outputs": [
    {
     "data": {
      "text/plain": [
       "(32, 8)"
      ]
     },
     "execution_count": 41,
     "metadata": {},
     "output_type": "execute_result"
    }
   ],
   "source": [
    "maj_conv_se=am[am[\"# Conversation\"]>10]\n",
    "maj_conv_se.shape"
   ]
  },
  {
   "cell_type": "code",
   "execution_count": 24,
   "metadata": {},
   "outputs": [
    {
     "data": {
      "text/plain": [
       "<matplotlib.axes._subplots.AxesSubplot at 0x5266f6ec88>"
      ]
     },
     "execution_count": 24,
     "metadata": {},
     "output_type": "execute_result"
    },
    {
     "data": {
      "image/png": "[encoded data removed]",
      "text/plain": [
       "<Figure size 864x432 with 1 Axes>"
      ]
     },
     "metadata": {
      "needs_background": "light"
     },
     "output_type": "display_data"
    }
   ],
   "source": [
    "plt.figure(figsize = (12,6))\n",
    "sns.distplot(maj_conv_se['Rating score'],color = 'green')"
   ]
  },
  {
   "cell_type": "code",
   "execution_count": 46,
   "metadata": {},
   "outputs": [
    {
     "data": {
      "text/plain": [
       "<matplotlib.axes._subplots.AxesSubplot at 0x5266ef9e48>"
      ]
     },
     "execution_count": 46,
     "metadata": {},
     "output_type": "execute_result"
    },
    {
     "data": {
      "image/png": "[encoded data removed]",
      "text/plain": [
       "<Figure size 864x432 with 1 Axes>"
      ]
     },
     "metadata": {
      "needs_background": "light"
     },
     "output_type": "display_data"
    }
   ],
   "source": [
    "maj_mkt_se=am[am[\"# Conversation\"]<10]\n",
    "plt.figure(figsize = (12,6))\n",
    "sns.distplot(maj_mkt_se['Rating score'],color = 'Red')"
   ]
  },
  {
   "cell_type": "code",
   "execution_count": 42,
   "metadata": {},
   "outputs": [
    {
     "data": {
      "text/plain": [
       "(27, 8)"
      ]
     },
     "execution_count": 42,
     "metadata": {},
     "output_type": "execute_result"
    }
   ],
   "source": [
    "maj_mkt_se.shape"
   ]
  },
  {
   "cell_type": "code",
   "execution_count": 44,
   "metadata": {},
   "outputs": [
    {
     "data": {
      "text/html": [
       "<div>\n",
       "<style scoped>\n",
       "    .dataframe tbody tr th:only-of-type {\n",
       "        vertical-align: middle;\n",
       "    }\n",
       "\n",
       "    .dataframe tbody tr th {\n",
       "        vertical-align: top;\n",
       "    }\n",
       "\n",
       "    .dataframe thead th {\n",
       "        text-align: right;\n",
       "    }\n",
       "</style>\n",
       "<table border=\"1\" class=\"dataframe\">\n",
       "  <thead>\n",
       "    <tr style=\"text-align: right;\">\n",
       "      <th></th>\n",
       "      <th>Twitter handler</th>\n",
       "      <th>Amazon seller name</th>\n",
       "      <th>Rating score</th>\n",
       "      <th>Nu of amazon review</th>\n",
       "      <th>Nu of tweet</th>\n",
       "      <th># Marketing</th>\n",
       "      <th># Conversation</th>\n",
       "      <th>AVG_tw_Polarity</th>\n",
       "    </tr>\n",
       "  </thead>\n",
       "  <tbody>\n",
       "    <tr>\n",
       "      <th>10</th>\n",
       "      <td>GadgetsApplnces</td>\n",
       "      <td>Gadgets Appliances (122)</td>\n",
       "      <td>68.062201</td>\n",
       "      <td>350</td>\n",
       "      <td>24</td>\n",
       "      <td>24</td>\n",
       "      <td>0</td>\n",
       "      <td>0.000000</td>\n",
       "    </tr>\n",
       "    <tr>\n",
       "      <th>38</th>\n",
       "      <td>shopping_swift</td>\n",
       "      <td>Swift Shopping</td>\n",
       "      <td>68.181818</td>\n",
       "      <td>50</td>\n",
       "      <td>35</td>\n",
       "      <td>35</td>\n",
       "      <td>0</td>\n",
       "      <td>-0.020159</td>\n",
       "    </tr>\n",
       "    <tr>\n",
       "      <th>11</th>\n",
       "      <td>Cart2India</td>\n",
       "      <td>cart2india</td>\n",
       "      <td>69.409938</td>\n",
       "      <td>240</td>\n",
       "      <td>131</td>\n",
       "      <td>128</td>\n",
       "      <td>3</td>\n",
       "      <td>0.154619</td>\n",
       "    </tr>\n",
       "    <tr>\n",
       "      <th>32</th>\n",
       "      <td>Deodap1</td>\n",
       "      <td>DeoDap</td>\n",
       "      <td>79.223301</td>\n",
       "      <td>160</td>\n",
       "      <td>241</td>\n",
       "      <td>240</td>\n",
       "      <td>1</td>\n",
       "      <td>0.173320</td>\n",
       "    </tr>\n",
       "    <tr>\n",
       "      <th>5</th>\n",
       "      <td>ledshoppe</td>\n",
       "      <td>Led Shoppee (256)</td>\n",
       "      <td>83.695652</td>\n",
       "      <td>50</td>\n",
       "      <td>1077</td>\n",
       "      <td>1074</td>\n",
       "      <td>3</td>\n",
       "      <td>0.104795</td>\n",
       "    </tr>\n",
       "    <tr>\n",
       "      <th>0</th>\n",
       "      <td>JaamsoRoyals_</td>\n",
       "      <td>JAAMSO ROYALS</td>\n",
       "      <td>85.140562</td>\n",
       "      <td>140</td>\n",
       "      <td>1</td>\n",
       "      <td>1</td>\n",
       "      <td>0</td>\n",
       "      <td>0.500000</td>\n",
       "    </tr>\n",
       "    <tr>\n",
       "      <th>4</th>\n",
       "      <td>TheLightStudio</td>\n",
       "      <td>TheLightStudio</td>\n",
       "      <td>85.714286</td>\n",
       "      <td>50</td>\n",
       "      <td>9</td>\n",
       "      <td>9</td>\n",
       "      <td>0</td>\n",
       "      <td>0.056818</td>\n",
       "    </tr>\n",
       "    <tr>\n",
       "      <th>28</th>\n",
       "      <td>TheLightStudio</td>\n",
       "      <td>TheLightStudio</td>\n",
       "      <td>85.714286</td>\n",
       "      <td>50</td>\n",
       "      <td>9</td>\n",
       "      <td>9</td>\n",
       "      <td>0</td>\n",
       "      <td>0.056818</td>\n",
       "    </tr>\n",
       "    <tr>\n",
       "      <th>22</th>\n",
       "      <td>TheLightStudio</td>\n",
       "      <td>TheLightStudio</td>\n",
       "      <td>85.714286</td>\n",
       "      <td>50</td>\n",
       "      <td>9</td>\n",
       "      <td>9</td>\n",
       "      <td>0</td>\n",
       "      <td>0.056818</td>\n",
       "    </tr>\n",
       "    <tr>\n",
       "      <th>39</th>\n",
       "      <td>vimalclothing</td>\n",
       "      <td>VIMAL CLOTHING</td>\n",
       "      <td>86.237189</td>\n",
       "      <td>185</td>\n",
       "      <td>7</td>\n",
       "      <td>6</td>\n",
       "      <td>1</td>\n",
       "      <td>0.228571</td>\n",
       "    </tr>\n",
       "    <tr>\n",
       "      <th>20</th>\n",
       "      <td>aidanjbutler</td>\n",
       "      <td>Aiden Gardens</td>\n",
       "      <td>86.283186</td>\n",
       "      <td>65</td>\n",
       "      <td>49</td>\n",
       "      <td>46</td>\n",
       "      <td>3</td>\n",
       "      <td>0.174751</td>\n",
       "    </tr>\n",
       "    <tr>\n",
       "      <th>29</th>\n",
       "      <td>shilpi_com</td>\n",
       "      <td>shilpi handicrafts</td>\n",
       "      <td>86.343612</td>\n",
       "      <td>55</td>\n",
       "      <td>3</td>\n",
       "      <td>3</td>\n",
       "      <td>0</td>\n",
       "      <td>0.027778</td>\n",
       "    </tr>\n",
       "    <tr>\n",
       "      <th>9</th>\n",
       "      <td>amraju1</td>\n",
       "      <td>Digital Shoppy (122)</td>\n",
       "      <td>88.805970</td>\n",
       "      <td>75</td>\n",
       "      <td>15</td>\n",
       "      <td>13</td>\n",
       "      <td>2</td>\n",
       "      <td>0.057222</td>\n",
       "    </tr>\n",
       "    <tr>\n",
       "      <th>8</th>\n",
       "      <td>pretty_kraft</td>\n",
       "      <td>Pretty Krafts (214)</td>\n",
       "      <td>89.367816</td>\n",
       "      <td>85</td>\n",
       "      <td>4</td>\n",
       "      <td>4</td>\n",
       "      <td>0</td>\n",
       "      <td>0.110890</td>\n",
       "    </tr>\n",
       "    <tr>\n",
       "      <th>6</th>\n",
       "      <td>Lal_Haveli</td>\n",
       "      <td>Lal_Haveli</td>\n",
       "      <td>89.449541</td>\n",
       "      <td>55</td>\n",
       "      <td>215</td>\n",
       "      <td>208</td>\n",
       "      <td>7</td>\n",
       "      <td>0.285432</td>\n",
       "    </tr>\n",
       "    <tr>\n",
       "      <th>43</th>\n",
       "      <td>Scanupi</td>\n",
       "      <td>Scanupi</td>\n",
       "      <td>89.484260</td>\n",
       "      <td>405</td>\n",
       "      <td>5</td>\n",
       "      <td>5</td>\n",
       "      <td>0</td>\n",
       "      <td>0.084286</td>\n",
       "    </tr>\n",
       "    <tr>\n",
       "      <th>54</th>\n",
       "      <td>TridentTex</td>\n",
       "      <td>TridentTex</td>\n",
       "      <td>90.740741</td>\n",
       "      <td>70</td>\n",
       "      <td>4</td>\n",
       "      <td>4</td>\n",
       "      <td>0</td>\n",
       "      <td>0.137500</td>\n",
       "    </tr>\n",
       "    <tr>\n",
       "      <th>17</th>\n",
       "      <td>stickme3dshop</td>\n",
       "      <td>StickMe</td>\n",
       "      <td>90.909091</td>\n",
       "      <td>130</td>\n",
       "      <td>30</td>\n",
       "      <td>28</td>\n",
       "      <td>2</td>\n",
       "      <td>0.155883</td>\n",
       "    </tr>\n",
       "    <tr>\n",
       "      <th>57</th>\n",
       "      <td>pure_india</td>\n",
       "      <td>Pure Source India (252)</td>\n",
       "      <td>91.063830</td>\n",
       "      <td>115</td>\n",
       "      <td>2</td>\n",
       "      <td>2</td>\n",
       "      <td>0</td>\n",
       "      <td>0.253571</td>\n",
       "    </tr>\n",
       "    <tr>\n",
       "      <th>21</th>\n",
       "      <td>adityapromoters</td>\n",
       "      <td>Aditya Promoters LTD.</td>\n",
       "      <td>91.666667</td>\n",
       "      <td>160</td>\n",
       "      <td>54</td>\n",
       "      <td>54</td>\n",
       "      <td>0</td>\n",
       "      <td>0.194234</td>\n",
       "    </tr>\n",
       "    <tr>\n",
       "      <th>16</th>\n",
       "      <td>StatueStudio</td>\n",
       "      <td>StatueStudio</td>\n",
       "      <td>92.576419</td>\n",
       "      <td>55</td>\n",
       "      <td>243</td>\n",
       "      <td>235</td>\n",
       "      <td>8</td>\n",
       "      <td>0.343577</td>\n",
       "    </tr>\n",
       "    <tr>\n",
       "      <th>2</th>\n",
       "      <td>volga10000</td>\n",
       "      <td>VOLGA ENTERPRISES (181)</td>\n",
       "      <td>93.333333</td>\n",
       "      <td>56</td>\n",
       "      <td>2</td>\n",
       "      <td>2</td>\n",
       "      <td>0</td>\n",
       "      <td>0.000000</td>\n",
       "    </tr>\n",
       "    <tr>\n",
       "      <th>51</th>\n",
       "      <td>LoFoodsIndia</td>\n",
       "      <td>Lo! - Low Carb and Keto Foods</td>\n",
       "      <td>93.750000</td>\n",
       "      <td>90</td>\n",
       "      <td>24</td>\n",
       "      <td>22</td>\n",
       "      <td>2</td>\n",
       "      <td>0.156002</td>\n",
       "    </tr>\n",
       "    <tr>\n",
       "      <th>15</th>\n",
       "      <td>seven_rays</td>\n",
       "      <td>Seven_rays</td>\n",
       "      <td>96.052632</td>\n",
       "      <td>55</td>\n",
       "      <td>3</td>\n",
       "      <td>3</td>\n",
       "      <td>0</td>\n",
       "      <td>0.000000</td>\n",
       "    </tr>\n",
       "    <tr>\n",
       "      <th>14</th>\n",
       "      <td>myMarketYard</td>\n",
       "      <td>MARKET YARD</td>\n",
       "      <td>97.697368</td>\n",
       "      <td>130</td>\n",
       "      <td>40</td>\n",
       "      <td>38</td>\n",
       "      <td>2</td>\n",
       "      <td>0.232055</td>\n",
       "    </tr>\n",
       "    <tr>\n",
       "      <th>36</th>\n",
       "      <td>dthdeal</td>\n",
       "      <td>DTHIndia</td>\n",
       "      <td>97.759674</td>\n",
       "      <td>215</td>\n",
       "      <td>12</td>\n",
       "      <td>12</td>\n",
       "      <td>0</td>\n",
       "      <td>0.065278</td>\n",
       "    </tr>\n",
       "    <tr>\n",
       "      <th>23</th>\n",
       "      <td>shopystore1</td>\n",
       "      <td>ShopyStore</td>\n",
       "      <td>98.507463</td>\n",
       "      <td>70</td>\n",
       "      <td>219</td>\n",
       "      <td>218</td>\n",
       "      <td>1</td>\n",
       "      <td>0.230286</td>\n",
       "    </tr>\n",
       "  </tbody>\n",
       "</table>\n",
       "</div>"
      ],
      "text/plain": [
       "    Twitter handler             Amazon seller name  Rating score  \\\n",
       "10  GadgetsApplnces       Gadgets Appliances (122)     68.062201   \n",
       "38   shopping_swift                 Swift Shopping     68.181818   \n",
       "11       Cart2India                     cart2india     69.409938   \n",
       "32          Deodap1                         DeoDap     79.223301   \n",
       "5         ledshoppe              Led Shoppee (256)     83.695652   \n",
       "0     JaamsoRoyals_                 JAAMSO ROYALS      85.140562   \n",
       "4    TheLightStudio                 TheLightStudio     85.714286   \n",
       "28   TheLightStudio                 TheLightStudio     85.714286   \n",
       "22   TheLightStudio                 TheLightStudio     85.714286   \n",
       "39    vimalclothing                 VIMAL CLOTHING     86.237189   \n",
       "20     aidanjbutler                  Aiden Gardens     86.283186   \n",
       "29       shilpi_com             shilpi handicrafts     86.343612   \n",
       "9           amraju1           Digital Shoppy (122)     88.805970   \n",
       "8      pretty_kraft            Pretty Krafts (214)     89.367816   \n",
       "6        Lal_Haveli                     Lal_Haveli     89.449541   \n",
       "43          Scanupi                        Scanupi     89.484260   \n",
       "54       TridentTex                     TridentTex     90.740741   \n",
       "17    stickme3dshop                        StickMe     90.909091   \n",
       "57       pure_india        Pure Source India (252)     91.063830   \n",
       "21  adityapromoters          Aditya Promoters LTD.     91.666667   \n",
       "16     StatueStudio                   StatueStudio     92.576419   \n",
       "2        volga10000        VOLGA ENTERPRISES (181)     93.333333   \n",
       "51     LoFoodsIndia  Lo! - Low Carb and Keto Foods     93.750000   \n",
       "15       seven_rays                     Seven_rays     96.052632   \n",
       "14     myMarketYard                    MARKET YARD     97.697368   \n",
       "36          dthdeal                       DTHIndia     97.759674   \n",
       "23      shopystore1                     ShopyStore     98.507463   \n",
       "\n",
       "    Nu of amazon review  Nu of tweet  # Marketing  # Conversation  \\\n",
       "10                  350           24           24               0   \n",
       "38                   50           35           35               0   \n",
       "11                  240          131          128               3   \n",
       "32                  160          241          240               1   \n",
       "5                    50         1077         1074               3   \n",
       "0                   140            1            1               0   \n",
       "4                    50            9            9               0   \n",
       "28                   50            9            9               0   \n",
       "22                   50            9            9               0   \n",
       "39                  185            7            6               1   \n",
       "20                   65           49           46               3   \n",
       "29                   55            3            3               0   \n",
       "9                    75           15           13               2   \n",
       "8                    85            4            4               0   \n",
       "6                    55          215          208               7   \n",
       "43                  405            5            5               0   \n",
       "54                   70            4            4               0   \n",
       "17                  130           30           28               2   \n",
       "57                  115            2            2               0   \n",
       "21                  160           54           54               0   \n",
       "16                   55          243          235               8   \n",
       "2                    56            2            2               0   \n",
       "51                   90           24           22               2   \n",
       "15                   55            3            3               0   \n",
       "14                  130           40           38               2   \n",
       "36                  215           12           12               0   \n",
       "23                   70          219          218               1   \n",
       "\n",
       "    AVG_tw_Polarity  \n",
       "10         0.000000  \n",
       "38        -0.020159  \n",
       "11         0.154619  \n",
       "32         0.173320  \n",
       "5          0.104795  \n",
       "0          0.500000  \n",
       "4          0.056818  \n",
       "28         0.056818  \n",
       "22         0.056818  \n",
       "39         0.228571  \n",
       "20         0.174751  \n",
       "29         0.027778  \n",
       "9          0.057222  \n",
       "8          0.110890  \n",
       "6          0.285432  \n",
       "43         0.084286  \n",
       "54         0.137500  \n",
       "17         0.155883  \n",
       "57         0.253571  \n",
       "21         0.194234  \n",
       "16         0.343577  \n",
       "2          0.000000  \n",
       "51         0.156002  \n",
       "15         0.000000  \n",
       "14         0.232055  \n",
       "36         0.065278  \n",
       "23         0.230286  "
      ]
     },
     "execution_count": 44,
     "metadata": {},
     "output_type": "execute_result"
    }
   ],
   "source": [
    "maj_mkt_se.sort_values('Rating score',axis=0,ascending=True)"
   ]
  },
  {
   "cell_type": "code",
   "execution_count": 45,
   "metadata": {},
   "outputs": [
    {
     "data": {
      "text/html": [
       "<div>\n",
       "<style scoped>\n",
       "    .dataframe tbody tr th:only-of-type {\n",
       "        vertical-align: middle;\n",
       "    }\n",
       "\n",
       "    .dataframe tbody tr th {\n",
       "        vertical-align: top;\n",
       "    }\n",
       "\n",
       "    .dataframe thead th {\n",
       "        text-align: right;\n",
       "    }\n",
       "</style>\n",
       "<table border=\"1\" class=\"dataframe\">\n",
       "  <thead>\n",
       "    <tr style=\"text-align: right;\">\n",
       "      <th></th>\n",
       "      <th>Twitter handler</th>\n",
       "      <th>Amazon seller name</th>\n",
       "      <th>Rating score</th>\n",
       "      <th>Nu of amazon review</th>\n",
       "      <th>Nu of tweet</th>\n",
       "      <th># Marketing</th>\n",
       "      <th># Conversation</th>\n",
       "      <th>AVG_tw_Polarity</th>\n",
       "    </tr>\n",
       "  </thead>\n",
       "  <tbody>\n",
       "    <tr>\n",
       "      <th>47</th>\n",
       "      <td>ShopYourWay</td>\n",
       "      <td>Shop Your World St…</td>\n",
       "      <td>14.285714</td>\n",
       "      <td>50</td>\n",
       "      <td>3183</td>\n",
       "      <td>2754</td>\n",
       "      <td>429</td>\n",
       "      <td>0.214605</td>\n",
       "    </tr>\n",
       "    <tr>\n",
       "      <th>7</th>\n",
       "      <td>tiedribbons</td>\n",
       "      <td>TiedRibbons (186)</td>\n",
       "      <td>77.833753</td>\n",
       "      <td>390</td>\n",
       "      <td>951</td>\n",
       "      <td>897</td>\n",
       "      <td>54</td>\n",
       "      <td>0.265779</td>\n",
       "    </tr>\n",
       "    <tr>\n",
       "      <th>55</th>\n",
       "      <td>tiedribbons</td>\n",
       "      <td>TiedRibbons (186)</td>\n",
       "      <td>77.833753</td>\n",
       "      <td>390</td>\n",
       "      <td>951</td>\n",
       "      <td>897</td>\n",
       "      <td>54</td>\n",
       "      <td>0.265779</td>\n",
       "    </tr>\n",
       "    <tr>\n",
       "      <th>19</th>\n",
       "      <td>tiedribbons</td>\n",
       "      <td>TiedRibbons (186)</td>\n",
       "      <td>77.833753</td>\n",
       "      <td>390</td>\n",
       "      <td>951</td>\n",
       "      <td>897</td>\n",
       "      <td>54</td>\n",
       "      <td>0.265779</td>\n",
       "    </tr>\n",
       "    <tr>\n",
       "      <th>27</th>\n",
       "      <td>WhiterayP</td>\n",
       "      <td>WhiteRay</td>\n",
       "      <td>79.292929</td>\n",
       "      <td>55</td>\n",
       "      <td>335</td>\n",
       "      <td>282</td>\n",
       "      <td>53</td>\n",
       "      <td>0.164959</td>\n",
       "    </tr>\n",
       "    <tr>\n",
       "      <th>31</th>\n",
       "      <td>nilkamal_ltd</td>\n",
       "      <td>Nilkamal LTD</td>\n",
       "      <td>79.365079</td>\n",
       "      <td>55</td>\n",
       "      <td>1403</td>\n",
       "      <td>1214</td>\n",
       "      <td>189</td>\n",
       "      <td>0.255792</td>\n",
       "    </tr>\n",
       "    <tr>\n",
       "      <th>26</th>\n",
       "      <td>Royalparadisegarden</td>\n",
       "      <td>Royal Paradise Garden</td>\n",
       "      <td>80.079681</td>\n",
       "      <td>85</td>\n",
       "      <td>273</td>\n",
       "      <td>235</td>\n",
       "      <td>38</td>\n",
       "      <td>0.237350</td>\n",
       "    </tr>\n",
       "    <tr>\n",
       "      <th>49</th>\n",
       "      <td>iBhejo</td>\n",
       "      <td>iBhejo</td>\n",
       "      <td>80.952381</td>\n",
       "      <td>55</td>\n",
       "      <td>1910</td>\n",
       "      <td>1874</td>\n",
       "      <td>36</td>\n",
       "      <td>0.189185</td>\n",
       "    </tr>\n",
       "    <tr>\n",
       "      <th>58</th>\n",
       "      <td>paperplane_shop</td>\n",
       "      <td>Paper Plane Design (241)</td>\n",
       "      <td>81.875000</td>\n",
       "      <td>240</td>\n",
       "      <td>1296</td>\n",
       "      <td>1044</td>\n",
       "      <td>252</td>\n",
       "      <td>0.263103</td>\n",
       "    </tr>\n",
       "    <tr>\n",
       "      <th>3</th>\n",
       "      <td>paperplane_shop</td>\n",
       "      <td>Paper Plane Design (241)</td>\n",
       "      <td>81.875000</td>\n",
       "      <td>240</td>\n",
       "      <td>1296</td>\n",
       "      <td>1044</td>\n",
       "      <td>252</td>\n",
       "      <td>0.263103</td>\n",
       "    </tr>\n",
       "    <tr>\n",
       "      <th>44</th>\n",
       "      <td>BoooksWagon</td>\n",
       "      <td>Bookswagon</td>\n",
       "      <td>82.494970</td>\n",
       "      <td>150</td>\n",
       "      <td>120</td>\n",
       "      <td>93</td>\n",
       "      <td>27</td>\n",
       "      <td>0.362491</td>\n",
       "    </tr>\n",
       "    <tr>\n",
       "      <th>50</th>\n",
       "      <td>AtlanticBooks</td>\n",
       "      <td>Atlantic Publisher…</td>\n",
       "      <td>86.111111</td>\n",
       "      <td>130</td>\n",
       "      <td>3227</td>\n",
       "      <td>2847</td>\n",
       "      <td>380</td>\n",
       "      <td>0.247397</td>\n",
       "    </tr>\n",
       "    <tr>\n",
       "      <th>53</th>\n",
       "      <td>VedicVaani</td>\n",
       "      <td>VedicVaani</td>\n",
       "      <td>86.324786</td>\n",
       "      <td>60</td>\n",
       "      <td>3238</td>\n",
       "      <td>3217</td>\n",
       "      <td>21</td>\n",
       "      <td>0.091301</td>\n",
       "    </tr>\n",
       "    <tr>\n",
       "      <th>25</th>\n",
       "      <td>RollingNature</td>\n",
       "      <td>Rolling Nature</td>\n",
       "      <td>86.757991</td>\n",
       "      <td>60</td>\n",
       "      <td>273</td>\n",
       "      <td>235</td>\n",
       "      <td>38</td>\n",
       "      <td>0.237350</td>\n",
       "    </tr>\n",
       "    <tr>\n",
       "      <th>24</th>\n",
       "      <td>plantsguru</td>\n",
       "      <td>Plants Guru</td>\n",
       "      <td>88.284519</td>\n",
       "      <td>65</td>\n",
       "      <td>1067</td>\n",
       "      <td>1027</td>\n",
       "      <td>40</td>\n",
       "      <td>0.177650</td>\n",
       "    </tr>\n",
       "    <tr>\n",
       "      <th>40</th>\n",
       "      <td>greenmobiles</td>\n",
       "      <td>GreenMobiles</td>\n",
       "      <td>88.980433</td>\n",
       "      <td>270</td>\n",
       "      <td>3201</td>\n",
       "      <td>3120</td>\n",
       "      <td>81</td>\n",
       "      <td>-0.036994</td>\n",
       "    </tr>\n",
       "    <tr>\n",
       "      <th>18</th>\n",
       "      <td>TallengeStore</td>\n",
       "      <td>Tallenge Store</td>\n",
       "      <td>89.189189</td>\n",
       "      <td>165</td>\n",
       "      <td>138</td>\n",
       "      <td>114</td>\n",
       "      <td>24</td>\n",
       "      <td>0.307622</td>\n",
       "    </tr>\n",
       "    <tr>\n",
       "      <th>52</th>\n",
       "      <td>TallengeStore</td>\n",
       "      <td>Tallenge Store</td>\n",
       "      <td>89.189189</td>\n",
       "      <td>165</td>\n",
       "      <td>138</td>\n",
       "      <td>114</td>\n",
       "      <td>24</td>\n",
       "      <td>0.307622</td>\n",
       "    </tr>\n",
       "    <tr>\n",
       "      <th>56</th>\n",
       "      <td>TallengeStore</td>\n",
       "      <td>Tallenge Store</td>\n",
       "      <td>89.189189</td>\n",
       "      <td>165</td>\n",
       "      <td>138</td>\n",
       "      <td>114</td>\n",
       "      <td>24</td>\n",
       "      <td>0.307622</td>\n",
       "    </tr>\n",
       "    <tr>\n",
       "      <th>42</th>\n",
       "      <td>urban_platter</td>\n",
       "      <td>Urban Platter</td>\n",
       "      <td>89.473684</td>\n",
       "      <td>125</td>\n",
       "      <td>946</td>\n",
       "      <td>892</td>\n",
       "      <td>54</td>\n",
       "      <td>0.133071</td>\n",
       "    </tr>\n",
       "    <tr>\n",
       "      <th>30</th>\n",
       "      <td>Sleep Spa Mattress</td>\n",
       "      <td>SLEEPSPA</td>\n",
       "      <td>90.049751</td>\n",
       "      <td>55</td>\n",
       "      <td>2723</td>\n",
       "      <td>2477</td>\n",
       "      <td>246</td>\n",
       "      <td>0.057116</td>\n",
       "    </tr>\n",
       "    <tr>\n",
       "      <th>46</th>\n",
       "      <td>Asianfootwears</td>\n",
       "      <td>ImagineDesign</td>\n",
       "      <td>91.839763</td>\n",
       "      <td>170</td>\n",
       "      <td>138</td>\n",
       "      <td>126</td>\n",
       "      <td>12</td>\n",
       "      <td>0.160351</td>\n",
       "    </tr>\n",
       "    <tr>\n",
       "      <th>48</th>\n",
       "      <td>MuscleBlaze</td>\n",
       "      <td>MuscleBlaze</td>\n",
       "      <td>92.902208</td>\n",
       "      <td>310</td>\n",
       "      <td>2850</td>\n",
       "      <td>2347</td>\n",
       "      <td>503</td>\n",
       "      <td>0.192542</td>\n",
       "    </tr>\n",
       "    <tr>\n",
       "      <th>35</th>\n",
       "      <td>HouseOfQuirk</td>\n",
       "      <td>HOUSE OF QUIRK</td>\n",
       "      <td>93.047337</td>\n",
       "      <td>165</td>\n",
       "      <td>96</td>\n",
       "      <td>81</td>\n",
       "      <td>15</td>\n",
       "      <td>0.173926</td>\n",
       "    </tr>\n",
       "    <tr>\n",
       "      <th>34</th>\n",
       "      <td>Bracevor</td>\n",
       "      <td>Bracevor</td>\n",
       "      <td>93.267327</td>\n",
       "      <td>125</td>\n",
       "      <td>497</td>\n",
       "      <td>482</td>\n",
       "      <td>15</td>\n",
       "      <td>0.136648</td>\n",
       "    </tr>\n",
       "    <tr>\n",
       "      <th>41</th>\n",
       "      <td>fit2glow</td>\n",
       "      <td>FIT AND GLOW</td>\n",
       "      <td>93.275756</td>\n",
       "      <td>395</td>\n",
       "      <td>946</td>\n",
       "      <td>892</td>\n",
       "      <td>54</td>\n",
       "      <td>0.133071</td>\n",
       "    </tr>\n",
       "    <tr>\n",
       "      <th>37</th>\n",
       "      <td>mamaearthindia</td>\n",
       "      <td>mamaearth</td>\n",
       "      <td>93.324692</td>\n",
       "      <td>370</td>\n",
       "      <td>2336</td>\n",
       "      <td>1934</td>\n",
       "      <td>402</td>\n",
       "      <td>0.145327</td>\n",
       "    </tr>\n",
       "    <tr>\n",
       "      <th>12</th>\n",
       "      <td>collectible_in</td>\n",
       "      <td>Collectible India</td>\n",
       "      <td>93.796526</td>\n",
       "      <td>95</td>\n",
       "      <td>246</td>\n",
       "      <td>232</td>\n",
       "      <td>14</td>\n",
       "      <td>0.354019</td>\n",
       "    </tr>\n",
       "    <tr>\n",
       "      <th>33</th>\n",
       "      <td>Adachikanstudio</td>\n",
       "      <td>Ada Chikan</td>\n",
       "      <td>94.214876</td>\n",
       "      <td>55</td>\n",
       "      <td>1126</td>\n",
       "      <td>1027</td>\n",
       "      <td>99</td>\n",
       "      <td>0.288753</td>\n",
       "    </tr>\n",
       "    <tr>\n",
       "      <th>45</th>\n",
       "      <td>Yogabars</td>\n",
       "      <td>Yogabar</td>\n",
       "      <td>94.714882</td>\n",
       "      <td>165</td>\n",
       "      <td>284</td>\n",
       "      <td>254</td>\n",
       "      <td>30</td>\n",
       "      <td>0.245991</td>\n",
       "    </tr>\n",
       "    <tr>\n",
       "      <th>13</th>\n",
       "      <td>exoticindiaart</td>\n",
       "      <td>Exotic India (322)</td>\n",
       "      <td>95.473251</td>\n",
       "      <td>110</td>\n",
       "      <td>5858</td>\n",
       "      <td>5802</td>\n",
       "      <td>56</td>\n",
       "      <td>0.168658</td>\n",
       "    </tr>\n",
       "    <tr>\n",
       "      <th>1</th>\n",
       "      <td>exoticindiaart</td>\n",
       "      <td>Exotic India (322)</td>\n",
       "      <td>95.473251</td>\n",
       "      <td>110</td>\n",
       "      <td>5858</td>\n",
       "      <td>5802</td>\n",
       "      <td>56</td>\n",
       "      <td>0.168658</td>\n",
       "    </tr>\n",
       "  </tbody>\n",
       "</table>\n",
       "</div>"
      ],
      "text/plain": [
       "        Twitter handler        Amazon seller name  Rating score  \\\n",
       "47          ShopYourWay       Shop Your World St…     14.285714   \n",
       "7           tiedribbons         TiedRibbons (186)     77.833753   \n",
       "55          tiedribbons         TiedRibbons (186)     77.833753   \n",
       "19          tiedribbons         TiedRibbons (186)     77.833753   \n",
       "27            WhiterayP                  WhiteRay     79.292929   \n",
       "31         nilkamal_ltd              Nilkamal LTD     79.365079   \n",
       "26  Royalparadisegarden     Royal Paradise Garden     80.079681   \n",
       "49               iBhejo                    iBhejo     80.952381   \n",
       "58      paperplane_shop  Paper Plane Design (241)     81.875000   \n",
       "3       paperplane_shop  Paper Plane Design (241)     81.875000   \n",
       "44          BoooksWagon                Bookswagon     82.494970   \n",
       "50        AtlanticBooks       Atlantic Publisher…     86.111111   \n",
       "53           VedicVaani                VedicVaani     86.324786   \n",
       "25        RollingNature            Rolling Nature     86.757991   \n",
       "24           plantsguru               Plants Guru     88.284519   \n",
       "40         greenmobiles              GreenMobiles     88.980433   \n",
       "18        TallengeStore            Tallenge Store     89.189189   \n",
       "52        TallengeStore            Tallenge Store     89.189189   \n",
       "56        TallengeStore            Tallenge Store     89.189189   \n",
       "42        urban_platter             Urban Platter     89.473684   \n",
       "30   Sleep Spa Mattress                  SLEEPSPA     90.049751   \n",
       "46       Asianfootwears             ImagineDesign     91.839763   \n",
       "48          MuscleBlaze               MuscleBlaze     92.902208   \n",
       "35         HouseOfQuirk            HOUSE OF QUIRK     93.047337   \n",
       "34             Bracevor                  Bracevor     93.267327   \n",
       "41             fit2glow              FIT AND GLOW     93.275756   \n",
       "37       mamaearthindia                 mamaearth     93.324692   \n",
       "12       collectible_in         Collectible India     93.796526   \n",
       "33      Adachikanstudio                Ada Chikan     94.214876   \n",
       "45             Yogabars                   Yogabar     94.714882   \n",
       "13       exoticindiaart        Exotic India (322)     95.473251   \n",
       "1        exoticindiaart        Exotic India (322)     95.473251   \n",
       "\n",
       "    Nu of amazon review  Nu of tweet  # Marketing  # Conversation  \\\n",
       "47                   50         3183         2754             429   \n",
       "7                   390          951          897              54   \n",
       "55                  390          951          897              54   \n",
       "19                  390          951          897              54   \n",
       "27                   55          335          282              53   \n",
       "31                   55         1403         1214             189   \n",
       "26                   85          273          235              38   \n",
       "49                   55         1910         1874              36   \n",
       "58                  240         1296         1044             252   \n",
       "3                   240         1296         1044             252   \n",
       "44                  150          120           93              27   \n",
       "50                  130         3227         2847             380   \n",
       "53                   60         3238         3217              21   \n",
       "25                   60          273          235              38   \n",
       "24                   65         1067         1027              40   \n",
       "40                  270         3201         3120              81   \n",
       "18                  165          138          114              24   \n",
       "52                  165          138          114              24   \n",
       "56                  165          138          114              24   \n",
       "42                  125          946          892              54   \n",
       "30                   55         2723         2477             246   \n",
       "46                  170          138          126              12   \n",
       "48                  310         2850         2347             503   \n",
       "35                  165           96           81              15   \n",
       "34                  125          497          482              15   \n",
       "41                  395          946          892              54   \n",
       "37                  370         2336         1934             402   \n",
       "12                   95          246          232              14   \n",
       "33                   55         1126         1027              99   \n",
       "45                  165          284          254              30   \n",
       "13                  110         5858         5802              56   \n",
       "1                   110         5858         5802              56   \n",
       "\n",
       "    AVG_tw_Polarity  \n",
       "47         0.214605  \n",
       "7          0.265779  \n",
       "55         0.265779  \n",
       "19         0.265779  \n",
       "27         0.164959  \n",
       "31         0.255792  \n",
       "26         0.237350  \n",
       "49         0.189185  \n",
       "58         0.263103  \n",
       "3          0.263103  \n",
       "44         0.362491  \n",
       "50         0.247397  \n",
       "53         0.091301  \n",
       "25         0.237350  \n",
       "24         0.177650  \n",
       "40        -0.036994  \n",
       "18         0.307622  \n",
       "52         0.307622  \n",
       "56         0.307622  \n",
       "42         0.133071  \n",
       "30         0.057116  \n",
       "46         0.160351  \n",
       "48         0.192542  \n",
       "35         0.173926  \n",
       "34         0.136648  \n",
       "41         0.133071  \n",
       "37         0.145327  \n",
       "12         0.354019  \n",
       "33         0.288753  \n",
       "45         0.245991  \n",
       "13         0.168658  \n",
       "1          0.168658  "
      ]
     },
     "execution_count": 45,
     "metadata": {},
     "output_type": "execute_result"
    }
   ],
   "source": [
    "maj_conv_se.sort_values('Rating score',axis=0,ascending=True)"
   ]
  },
  {
   "cell_type": "code",
   "execution_count": 51,
   "metadata": {},
   "outputs": [
    {
     "data": {
      "text/plain": [
       "<matplotlib.axes._subplots.AxesSubplot at 0x526f9a2438>"
      ]
     },
     "execution_count": 51,
     "metadata": {},
     "output_type": "execute_result"
    },
    {
     "data": {
      "image/png": "[encoded data removed]",
      "text/plain": [
       "<Figure size 432x288 with 1 Axes>"
      ]
     },
     "metadata": {
      "needs_background": "light"
     },
     "output_type": "display_data"
    }
   ],
   "source": [
    "sns.scatterplot(x=maj_conv_se['Rating score'],y=maj_conv_se['AVG_tw_Polarity'])"
   ]
  },
  {
   "cell_type": "code",
   "execution_count": 52,
   "metadata": {},
   "outputs": [
    {
     "data": {
      "text/plain": [
       "<matplotlib.axes._subplots.AxesSubplot at 0x526fa0c278>"
      ]
     },
     "execution_count": 52,
     "metadata": {},
     "output_type": "execute_result"
    },
    {
     "data": {
      "image/png": "[encoded data removed]",
      "text/plain": [
       "<Figure size 432x288 with 1 Axes>"
      ]
     },
     "metadata": {
      "needs_background": "light"
     },
     "output_type": "display_data"
    }
   ],
   "source": [
    "sns.scatterplot(x=maj_mkt_se['Rating score'],y=maj_mkt_se['AVG_tw_Polarity'])"
   ]
  },
  {
   "cell_type": "code",
   "execution_count": 53,
   "metadata": {},
   "outputs": [
    {
     "data": {
      "text/plain": [
       "<matplotlib.axes._subplots.AxesSubplot at 0x526f8b66a0>"
      ]
     },
     "execution_count": 53,
     "metadata": {},
     "output_type": "execute_result"
    },
    {
     "data": {
      "image/png": "[encoded data removed]",
      "text/plain": [
       "<Figure size 432x288 with 1 Axes>"
      ]
     },
     "metadata": {
      "needs_background": "light"
     },
     "output_type": "display_data"
    }
   ],
   "source": [
    "sns.regplot(x=maj_mkt_se['Rating score'],y=maj_mkt_se['AVG_tw_Polarity'])\n"
   ]
  },
  {
   "cell_type": "code",
   "execution_count": null,
   "metadata": {},
   "outputs": [],
   "source": []
  }
 ],
 "metadata": {
  "kernelspec": {
   "display_name": "Python 3",
   "language": "python",
   "name": "python3"
  },
  "language_info": {
   "codemirror_mode": {
    "name": "ipython",
    "version": 3
   },
   "file_extension": ".py",
   "mimetype": "text/x-python",
   "name": "python",
   "nbconvert_exporter": "python",
   "pygments_lexer": "ipython3",
   "version": "3.7.0"
  }
 },
 "nbformat": 4,
 "nbformat_minor": 2
}
